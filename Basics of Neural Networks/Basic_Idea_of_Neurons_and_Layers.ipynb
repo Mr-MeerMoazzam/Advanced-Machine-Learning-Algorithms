{
  "cells": [
    {
      "cell_type": "markdown",
      "metadata": {
        "tags": [],
        "id": "u9XtfkDJlv2_"
      },
      "source": [
        "In this notebook, we will explore the inner workings of neurons/units and layers. In particular, I will draw parallels to the models we have studied like regression/linear model and the logistic model. The notebook will introduce Tensorflow and demonstrate how these models are implemented in that framework."
      ]
    },
    {
      "cell_type": "markdown",
      "metadata": {
        "id": "QI1Tgvbrlv3G"
      },
      "source": [
        "## Packages\n",
        "**Tensorflow**  \n",
        "TensorFlow is a free and open-source software library for machine learning and artificial intelligence developed by Google. It can be utilised for a variety of tasks, but it is most commonly employed for deep neural network training and inference.\n",
        "<br>\n",
        "**Keras**<br>\n",
        "Keras is a Python interface for artificial neural networks that is open-source software library. Keras serves as an interface for the TensorFlow library. I will be using the Keras interface. "
      ]
    },
    {
      "cell_type": "code",
      "execution_count": 1,
      "metadata": {
        "id": "lXu6fIO1lv3H"
      },
      "outputs": [],
      "source": [
        "import numpy as np\n",
        "import matplotlib.pyplot as plt\n",
        "import tensorflow as tf\n",
        "from tensorflow.keras.layers import Dense, Input\n",
        "from tensorflow.keras import Sequential\n",
        "from tensorflow.keras.losses import MeanSquaredError, BinaryCrossentropy\n",
        "from tensorflow.keras.activations import sigmoid\n",
        "import logging\n",
        "logging.getLogger(\"tensorflow\").setLevel(logging.ERROR)\n",
        "tf.autograph.set_verbosity(0)"
      ]
    },
    {
      "cell_type": "markdown",
      "metadata": {
        "id": "ZqLuIgRIlv3J"
      },
      "source": [
        "## Linear Regression Model"
      ]
    },
    {
      "cell_type": "code",
      "execution_count": 3,
      "metadata": {
        "tags": [],
        "colab": {
          "base_uri": "https://localhost:8080/",
          "height": 289
        },
        "id": "ETKTIuZ_lv3K",
        "outputId": "9105a720-830d-41bb-d65b-18bf1e88d4db"
      },
      "outputs": [
        {
          "output_type": "display_data",
          "data": {
            "text/plain": [
              "<Figure size 432x288 with 1 Axes>"
            ],
            "image/png": "[encoded data removed]"
          },
          "metadata": {
            "needs_background": "light"
          }
        }
      ],
      "source": [
        "# for simplicity we assume two data points as in house price prediction(size and price)\n",
        "X_train = np.array([[1.0], [2.0]], dtype=np.float32)           #(size in 1000 square feet)\n",
        "Y_train = np.array([[300.0], [500.0]], dtype=np.float32)       #(price in 1000s of dollars)\n",
        "\n",
        "fig, ax = plt.subplots(1,1)\n",
        "ax.scatter(X_train, Y_train, marker='x', c='r', label=\"Data Points\")\n",
        "ax.set_ylabel('Price (in 1000s of dollars)', fontsize='xx-large')\n",
        "ax.set_xlabel('Size (1000 sqft)', fontsize='xx-large')\n",
        "plt.show()"
      ]
    },
    {
      "cell_type": "markdown",
      "metadata": {
        "id": "OVQC1JNhlv3M"
      },
      "source": [
        "### Regression Model \n",
        "The function implemented by a neuron with no activation is same like simple linear regression model:\n",
        "$$ f_{\\mathbf{w},b}(x^{(i)}) = \\mathbf{w}\\cdot x^{(i)} + b \\tag{1}$$\n",
        "\n"
      ]
    },
    {
      "cell_type": "markdown",
      "metadata": {
        "id": "vETq_DRRlv3N"
      },
      "source": [
        "We can define a layer with one neuron or unit and compare it to the familiar linear regression function."
      ]
    },
    {
      "cell_type": "code",
      "execution_count": 4,
      "metadata": {
        "id": "gQ_JDlpplv3O"
      },
      "outputs": [],
      "source": [
        "linear_layer = tf.keras.layers.Dense(units=1, activation = 'linear', )"
      ]
    },
    {
      "cell_type": "markdown",
      "metadata": {
        "id": "KGP5GMkDlv3P"
      },
      "source": [
        "Let's examine the weights."
      ]
    },
    {
      "cell_type": "code",
      "execution_count": 5,
      "metadata": {
        "colab": {
          "base_uri": "https://localhost:8080/"
        },
        "id": "O9y8GftLlv3Q",
        "outputId": "5bcb1f2c-fee6-4dab-8a50-d6bdb1499663"
      },
      "outputs": [
        {
          "output_type": "execute_result",
          "data": {
            "text/plain": [
              "[]"
            ]
          },
          "metadata": {},
          "execution_count": 5
        }
      ],
      "source": [
        "linear_layer.get_weights()"
      ]
    },
    {
      "cell_type": "markdown",
      "metadata": {
        "id": "25fCfF7klv3R"
      },
      "source": [
        "There are no weights as the weights are not yet instantiated. Let's try the model on one example in `X_train`. This will trigger the instantiation of the weights. Note, the input to the layer must be 2-D, so we'll reshape it."
      ]
    },
    {
      "cell_type": "code",
      "execution_count": 6,
      "metadata": {
        "colab": {
          "base_uri": "https://localhost:8080/"
        },
        "id": "5btQ-IItlv3S",
        "outputId": "06c10916-a8b5-4efb-a898-4e58b9c589b2"
      },
      "outputs": [
        {
          "output_type": "stream",
          "name": "stdout",
          "text": [
            "tf.Tensor([[1.4256331]], shape=(1, 1), dtype=float32)\n"
          ]
        }
      ],
      "source": [
        "a1 = linear_layer(X_train[0].reshape(1,1))\n",
        "print(a1)"
      ]
    },
    {
      "cell_type": "markdown",
      "metadata": {
        "id": "ijwzWovclv3S"
      },
      "source": [
        "The result is a tensor (another name for an array) with a shape of (1,1) or one entry.   \n",
        "Now let's look at the weights and bias. These weights are randomly initialized to small numbers and the bias defaults to being initialized to zero."
      ]
    },
    {
      "cell_type": "code",
      "execution_count": 7,
      "metadata": {
        "colab": {
          "base_uri": "https://localhost:8080/"
        },
        "id": "aKKTKWIUlv3T",
        "outputId": "18c99690-6ec3-4f4e-d63e-d538cd86cae8"
      },
      "outputs": [
        {
          "output_type": "stream",
          "name": "stdout",
          "text": [
            "weight = [[1.4256331]], bias=[0.]\n"
          ]
        }
      ],
      "source": [
        "w, b= linear_layer.get_weights()\n",
        "print(f\"weight = {w}, bias={b}\")"
      ]
    },
    {
      "cell_type": "markdown",
      "metadata": {
        "id": "ysLQaB3_lv3T"
      },
      "source": [
        "A linear regression model (1) with a single input feature will have a single weight and bias. This matches the dimensions of our `linear_layer` above.   \n",
        "\n",
        "The weights are initialized to random values so let's set them to some known values."
      ]
    },
    {
      "cell_type": "code",
      "execution_count": 8,
      "metadata": {
        "colab": {
          "base_uri": "https://localhost:8080/"
        },
        "id": "zWQzBYqSlv3U",
        "outputId": "a6068faa-3b03-454c-8b72-565d1e3cdcf1"
      },
      "outputs": [
        {
          "output_type": "stream",
          "name": "stdout",
          "text": [
            "[array([[200.]], dtype=float32), array([100.], dtype=float32)]\n"
          ]
        }
      ],
      "source": [
        "set_w = np.array([[200]])\n",
        "set_b = np.array([100])\n",
        "\n",
        "# set_weights takes a list of numpy arrays\n",
        "linear_layer.set_weights([set_w, set_b])\n",
        "print(linear_layer.get_weights())"
      ]
    },
    {
      "cell_type": "markdown",
      "metadata": {
        "id": "-RDyAGGglv3U"
      },
      "source": [
        "Let's compare equation (1) to the layer output."
      ]
    },
    {
      "cell_type": "code",
      "execution_count": 9,
      "metadata": {
        "colab": {
          "base_uri": "https://localhost:8080/"
        },
        "id": "9yJcwyHJlv3U",
        "outputId": "bcb5d601-0243-4370-df04-eeec02b428fa"
      },
      "outputs": [
        {
          "output_type": "stream",
          "name": "stdout",
          "text": [
            "tf.Tensor([[300.]], shape=(1, 1), dtype=float32)\n",
            "[[300.]]\n"
          ]
        }
      ],
      "source": [
        "a1 = linear_layer(X_train[0].reshape(1,1))\n",
        "print(a1)\n",
        "alin = np.dot(set_w,X_train[0].reshape(1,1)) + set_b\n",
        "print(alin)"
      ]
    },
    {
      "cell_type": "markdown",
      "metadata": {
        "id": "ca6Z692Ylv3V"
      },
      "source": [
        "They produce the same values!\n",
        "Now, we can use our linear layer to make predictions on our training data."
      ]
    },
    {
      "cell_type": "code",
      "execution_count": 10,
      "metadata": {
        "id": "ICfYdkv2lv3V"
      },
      "outputs": [],
      "source": [
        "prediction_tf = linear_layer(X_train)\n",
        "prediction_np = np.dot( X_train, set_w) + set_b"
      ]
    },
    {
      "cell_type": "code",
      "execution_count": 11,
      "metadata": {
        "colab": {
          "base_uri": "https://localhost:8080/"
        },
        "id": "cofQgaEKlv3V",
        "outputId": "1a864e54-a6c5-46bb-b1be-6b155386c3c5"
      },
      "outputs": [
        {
          "output_type": "execute_result",
          "data": {
            "text/plain": [
              "array([[300.],\n",
              "       [500.]])"
            ]
          },
          "metadata": {},
          "execution_count": 11
        }
      ],
      "source": [
        "prediction_np"
      ]
    },
    {
      "cell_type": "code",
      "execution_count": 12,
      "metadata": {
        "colab": {
          "base_uri": "https://localhost:8080/",
          "height": 265
        },
        "id": "G67Y9z-plv3W",
        "outputId": "cd7d8c16-1d14-4dce-d06f-ae83886bf3d3"
      },
      "outputs": [
        {
          "output_type": "display_data",
          "data": {
            "text/plain": [
              "<Figure size 432x288 with 1 Axes>"
            ],
            "image/png": "[encoded data removed]"
          },
          "metadata": {
            "needs_background": "light"
          }
        }
      ],
      "source": [
        "plt.plot(X_train, Y_train)\n",
        "plt.scatter(X_train, Y_train, marker='x', c='r', label=\"Data Points\")\n",
        "plt.show()"
      ]
    },
    {
      "cell_type": "code",
      "execution_count": 13,
      "metadata": {
        "colab": {
          "base_uri": "https://localhost:8080/",
          "height": 265
        },
        "id": "8mT1tdX-lv3W",
        "outputId": "7ff323d4-2c7d-4c3d-9800-667712c01d37"
      },
      "outputs": [
        {
          "output_type": "display_data",
          "data": {
            "text/plain": [
              "<Figure size 432x288 with 1 Axes>"
            ],
            "image/png": "[encoded data removed]"
          },
          "metadata": {
            "needs_background": "light"
          }
        }
      ],
      "source": [
        "plt.plot(X_train, prediction_np)\n",
        "plt.scatter(X_train, Y_train, marker='x', c='r', label=\"Data Points\")\n",
        "plt.show()"
      ]
    },
    {
      "cell_type": "markdown",
      "metadata": {
        "id": "9jgO26Mjlv3W"
      },
      "source": [
        "## Neuron with Sigmoid activation\n",
        "The function implemented by a neuron/unit with a sigmoid activation is the same as logistic  regression:\n",
        "$$ f_{\\mathbf{w},b}(x^{(i)}) = g(\\mathbf{w}x^{(i)} + b) \\tag{2}$$\n",
        "where $$g(x) = sigmoid(x)$$ \n",
        "\n",
        "Let's set $w$ and $b$ to some known values and check the model.\n"
      ]
    },
    {
      "cell_type": "code",
      "execution_count": 14,
      "metadata": {
        "colab": {
          "base_uri": "https://localhost:8080/"
        },
        "id": "Nslnw6hllv3X",
        "outputId": "1c611ccf-5ef8-411a-96a3-1c7d297edf56"
      },
      "outputs": [
        {
          "output_type": "execute_result",
          "data": {
            "text/plain": [
              "array([[0.],\n",
              "       [1.],\n",
              "       [2.],\n",
              "       [3.],\n",
              "       [4.],\n",
              "       [5.]], dtype=float32)"
            ]
          },
          "metadata": {},
          "execution_count": 14
        }
      ],
      "source": [
        "X_train = np.array([0., 1, 2, 3, 4, 5], dtype=np.float32).reshape(-1,1)  # 2-D Matrix\n",
        "Y_train = np.array([0,  0, 0, 1, 1, 1], dtype=np.float32).reshape(-1,1)  # 2-D Matrix\n",
        "X_train"
      ]
    },
    {
      "cell_type": "code",
      "execution_count": 15,
      "metadata": {
        "colab": {
          "base_uri": "https://localhost:8080/"
        },
        "id": "UmfdFf5llv3X",
        "outputId": "43d23021-a23c-488c-c220-43b6704e8c71"
      },
      "outputs": [
        {
          "output_type": "execute_result",
          "data": {
            "text/plain": [
              "array([0., 1., 2.], dtype=float32)"
            ]
          },
          "metadata": {},
          "execution_count": 15
        }
      ],
      "source": [
        "pos = Y_train == 1\n",
        "neg = Y_train == 0\n",
        "X_train[neg]"
      ]
    },
    {
      "cell_type": "code",
      "execution_count": 16,
      "metadata": {
        "colab": {
          "base_uri": "https://localhost:8080/",
          "height": 298
        },
        "id": "8kbta8Fslv3X",
        "outputId": "41a4ec2f-f18a-47b9-f362-238a8c25c44f"
      },
      "outputs": [
        {
          "output_type": "display_data",
          "data": {
            "text/plain": [
              "<Figure size 432x288 with 1 Axes>"
            ],
            "image/png": "[encoded data removed]"
          },
          "metadata": {
            "needs_background": "light"
          }
        }
      ],
      "source": [
        "pos = Y_train == 1\n",
        "neg = Y_train == 0\n",
        "\n",
        "#fig,ax = plt.subplots(1,1,figsize=(4,3))\n",
        "#ax.scatter(X_train[pos], Y_train[pos], marker='x', s=80, c = 'red', label=\"y=1\")\n",
        "#ax.scatter(X_train[neg], Y_train[neg], marker='o', s=100, label=\"y=0\", facecolors='none',lw=3)\n",
        "plt.scatter(X_train[pos], Y_train[pos],marker='x')\n",
        "plt.scatter(X_train[neg], Y_train[neg],marker='o')\n",
        "plt.ylim(-0.08,1.1)\n",
        "plt.ylabel('y', fontsize=12)\n",
        "plt.xlabel('x', fontsize=12)\n",
        "plt.title('one variable plot')\n",
        "plt.show()"
      ]
    },
    {
      "cell_type": "markdown",
      "metadata": {
        "id": "02oVVF1Ylv3Y"
      },
      "source": [
        "### Logistic Neuron\n",
        "We can implement a 'logistic neuron' by adding a sigmoid activation. The function of the neuron is then described by (2) above.   \n",
        "Now we will create a Tensorflow Model that contains our logistic layer to demonstrate an alternate method of creating models. Tensorflow is most often used to create multi-layer models. The [Sequential](https://keras.io/guides/sequential_model/) model is a convenient means of constructing these models."
      ]
    },
    {
      "cell_type": "code",
      "execution_count": 17,
      "metadata": {
        "tags": [],
        "id": "Tgj5KKnylv3Y"
      },
      "outputs": [],
      "source": [
        "model = Sequential(\n",
        "    [\n",
        "        tf.keras.layers.Dense(1, input_dim=1,  activation = 'sigmoid', name='L1')\n",
        "    ]\n",
        ")"
      ]
    },
    {
      "cell_type": "markdown",
      "metadata": {
        "id": "f0dCR5islv3Y"
      },
      "source": [
        "`model.summary()` shows the layers and number of parameters in the model. There is only one layer in this model and that layer has only one unit. The unit has two parameters, $w$ and $b$."
      ]
    },
    {
      "cell_type": "code",
      "execution_count": 18,
      "metadata": {
        "colab": {
          "base_uri": "https://localhost:8080/"
        },
        "id": "STLAPbEjlv3Y",
        "outputId": "ced52de9-05c3-4212-e0c5-a0c2a3a45b63"
      },
      "outputs": [
        {
          "output_type": "stream",
          "name": "stdout",
          "text": [
            "Model: \"sequential\"\n",
            "_________________________________________________________________\n",
            " Layer (type)                Output Shape              Param #   \n",
            "=================================================================\n",
            " L1 (Dense)                  (None, 1)                 2         \n",
            "                                                                 \n",
            "=================================================================\n",
            "Total params: 2\n",
            "Trainable params: 2\n",
            "Non-trainable params: 0\n",
            "_________________________________________________________________\n"
          ]
        }
      ],
      "source": [
        "model.summary()"
      ]
    },
    {
      "cell_type": "code",
      "execution_count": 19,
      "metadata": {
        "colab": {
          "base_uri": "https://localhost:8080/"
        },
        "id": "y1qs7lD4lv3Z",
        "outputId": "3765df0a-509c-489f-c9b8-f0ebee285739"
      },
      "outputs": [
        {
          "output_type": "stream",
          "name": "stdout",
          "text": [
            "[[0.7625104]] [0.]\n",
            "(1, 1) (1,)\n"
          ]
        }
      ],
      "source": [
        "logistic_layer = model.get_layer('L1')\n",
        "w,b = logistic_layer.get_weights()\n",
        "print(w,b)\n",
        "print(w.shape,b.shape)"
      ]
    },
    {
      "cell_type": "markdown",
      "metadata": {
        "id": "7e9yo3_ilv3Z"
      },
      "source": [
        "Let's set the weight and bias to some known values."
      ]
    },
    {
      "cell_type": "code",
      "execution_count": 20,
      "metadata": {
        "colab": {
          "base_uri": "https://localhost:8080/"
        },
        "id": "JMmU7GuHlv3Z",
        "outputId": "92a64efc-a345-4dfd-c420-99900a944f78"
      },
      "outputs": [
        {
          "output_type": "stream",
          "name": "stdout",
          "text": [
            "[array([[2.]], dtype=float32), array([-4.5], dtype=float32)]\n"
          ]
        }
      ],
      "source": [
        "set_w = np.array([[2]])\n",
        "set_b = np.array([-4.5])\n",
        "# set_weights takes a list of numpy arrays\n",
        "logistic_layer.set_weights([set_w, set_b])\n",
        "print(logistic_layer.get_weights())"
      ]
    },
    {
      "cell_type": "markdown",
      "metadata": {
        "id": "gtHHcWHTlv3a"
      },
      "source": [
        "Let's compare equation (2) to the layer output."
      ]
    },
    {
      "cell_type": "code",
      "execution_count": 23,
      "metadata": {
        "colab": {
          "base_uri": "https://localhost:8080/"
        },
        "id": "ozV4wECHlv3a",
        "outputId": "9a07e865-e4b9-44ed-9bfb-d904346556bf"
      },
      "outputs": [
        {
          "output_type": "stream",
          "name": "stdout",
          "text": [
            "1/1 [==============================] - 0s 13ms/step\n",
            "Logistic Regression[[0.01098694]]\n",
            "Logistic Neoron[[0.01098694]]\n"
          ]
        }
      ],
      "source": [
        "a1 = model.predict(X_train[0].reshape(1,1))\n",
        "print(f\"Logistic Regression{a1}\")\n",
        "alog = sigmoid(np.dot(set_w,X_train[0].reshape(1,1)) + set_b)\n",
        "print(f\"Logistic Neoron{alog}\")"
      ]
    },
    {
      "cell_type": "markdown",
      "metadata": {
        "id": "I7XiubDwlv3a"
      },
      "source": [
        "They produce the same values!\n",
        "Now, we can use our logistic layer and NumPy model to make predictions on our training data."
      ]
    },
    {
      "cell_type": "markdown",
      "metadata": {
        "id": "RcPdEMuylv3b"
      },
      "source": [
        "# Congratulations!\n",
        "You built a very simple neural network and have explored the similarities of a neuron to the linear and logistic regression."
      ]
    }
  ],
  "metadata": {
    "kernelspec": {
      "display_name": "Python 3 (ipykernel)",
      "language": "python",
      "name": "python3"
    },
    "language_info": {
      "codemirror_mode": {
        "name": "ipython",
        "version": 3
      },
      "file_extension": ".py",
      "mimetype": "text/x-python",
      "name": "python",
      "nbconvert_exporter": "python",
      "pygments_lexer": "ipython3",
      "version": "3.9.12"
    },
    "colab": {
      "provenance": []
    }
  },
  "nbformat": 4,
  "nbformat_minor": 0
}